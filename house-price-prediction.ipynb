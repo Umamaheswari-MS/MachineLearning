{
 "cells": [
  {
   "cell_type": "code",
   "execution_count": 3,
   "id": "6dac32b6",
   "metadata": {
    "execution": {
     "iopub.execute_input": "2022-11-05T08:25:27.182542Z",
     "iopub.status.busy": "2022-11-05T08:25:27.182052Z",
     "iopub.status.idle": "2022-11-05T08:25:28.811001Z",
     "shell.execute_reply": "2022-11-05T08:25:28.809695Z"
    },
    "papermill": {
     "duration": 1.645588,
     "end_time": "2022-11-05T08:25:28.814117",
     "exception": false,
     "start_time": "2022-11-05T08:25:27.168529",
     "status": "completed"
    },
    "tags": []
   },
   "outputs": [],
   "source": [
    "import pandas as pd \n",
    "import numpy as np \n",
    "import matplotlib.pyplot as plt\n",
    "import seaborn as sns\n",
    "from sklearn.preprocessing import LabelEncoder\n",
    "from sklearn.linear_model import LinearRegression\n",
    "from sklearn.ensemble import RandomForestRegressor\n",
    "from sklearn.model_selection import train_test_split \n",
    "from sklearn.metrics import mean_squared_error,mean_absolute_percentage_error"
   ]
  },
  {
   "cell_type": "code",
   "execution_count": 4,
   "id": "c9020f95",
   "metadata": {
    "execution": {
     "iopub.execute_input": "2022-11-05T08:25:28.860843Z",
     "iopub.status.busy": "2022-11-05T08:25:28.859652Z",
     "iopub.status.idle": "2022-11-05T08:25:28.913453Z",
     "shell.execute_reply": "2022-11-05T08:25:28.912083Z"
    },
    "papermill": {
     "duration": 0.069995,
     "end_time": "2022-11-05T08:25:28.916626",
     "exception": false,
     "start_time": "2022-11-05T08:25:28.846631",
     "status": "completed"
    },
    "tags": []
   },
   "outputs": [],
   "source": [
    "data =pd.read_csv(\"D:\\House pricece\\data.csv\")"
   ]
  },
  {
   "cell_type": "code",
   "execution_count": 5,
   "id": "819a0220",
   "metadata": {
    "execution": {
     "iopub.execute_input": "2022-11-05T08:25:28.958510Z",
     "iopub.status.busy": "2022-11-05T08:25:28.958043Z",
     "iopub.status.idle": "2022-11-05T08:25:28.994409Z",
     "shell.execute_reply": "2022-11-05T08:25:28.993136Z"
    },
    "papermill": {
     "duration": 0.051362,
     "end_time": "2022-11-05T08:25:28.997674",
     "exception": false,
     "start_time": "2022-11-05T08:25:28.946312",
     "status": "completed"
    },
    "tags": []
   },
   "outputs": [
    {
     "data": {
      "text/html": [
       "<div>\n",
       "<style scoped>\n",
       "    .dataframe tbody tr th:only-of-type {\n",
       "        vertical-align: middle;\n",
       "    }\n",
       "\n",
       "    .dataframe tbody tr th {\n",
       "        vertical-align: top;\n",
       "    }\n",
       "\n",
       "    .dataframe thead th {\n",
       "        text-align: right;\n",
       "    }\n",
       "</style>\n",
       "<table border=\"1\" class=\"dataframe\">\n",
       "  <thead>\n",
       "    <tr style=\"text-align: right;\">\n",
       "      <th></th>\n",
       "      <th>price</th>\n",
       "      <th>bedrooms</th>\n",
       "      <th>bathrooms</th>\n",
       "      <th>sqft_living</th>\n",
       "      <th>sqft_lot</th>\n",
       "      <th>floors</th>\n",
       "      <th>waterfront</th>\n",
       "      <th>view</th>\n",
       "      <th>condition</th>\n",
       "      <th>sqft_above</th>\n",
       "      <th>sqft_basement</th>\n",
       "      <th>city</th>\n",
       "    </tr>\n",
       "  </thead>\n",
       "  <tbody>\n",
       "    <tr>\n",
       "      <th>0</th>\n",
       "      <td>313000.0</td>\n",
       "      <td>3.0</td>\n",
       "      <td>1.50</td>\n",
       "      <td>1340</td>\n",
       "      <td>7912</td>\n",
       "      <td>1.5</td>\n",
       "      <td>0</td>\n",
       "      <td>0</td>\n",
       "      <td>3</td>\n",
       "      <td>1340</td>\n",
       "      <td>0</td>\n",
       "      <td>Shoreline</td>\n",
       "    </tr>\n",
       "    <tr>\n",
       "      <th>1</th>\n",
       "      <td>2384000.0</td>\n",
       "      <td>5.0</td>\n",
       "      <td>2.50</td>\n",
       "      <td>3650</td>\n",
       "      <td>9050</td>\n",
       "      <td>2.0</td>\n",
       "      <td>0</td>\n",
       "      <td>4</td>\n",
       "      <td>5</td>\n",
       "      <td>3370</td>\n",
       "      <td>280</td>\n",
       "      <td>Seattle</td>\n",
       "    </tr>\n",
       "    <tr>\n",
       "      <th>2</th>\n",
       "      <td>342000.0</td>\n",
       "      <td>3.0</td>\n",
       "      <td>2.00</td>\n",
       "      <td>1930</td>\n",
       "      <td>11947</td>\n",
       "      <td>1.0</td>\n",
       "      <td>0</td>\n",
       "      <td>0</td>\n",
       "      <td>4</td>\n",
       "      <td>1930</td>\n",
       "      <td>0</td>\n",
       "      <td>Kent</td>\n",
       "    </tr>\n",
       "    <tr>\n",
       "      <th>3</th>\n",
       "      <td>420000.0</td>\n",
       "      <td>3.0</td>\n",
       "      <td>2.25</td>\n",
       "      <td>2000</td>\n",
       "      <td>8030</td>\n",
       "      <td>1.0</td>\n",
       "      <td>0</td>\n",
       "      <td>0</td>\n",
       "      <td>4</td>\n",
       "      <td>1000</td>\n",
       "      <td>1000</td>\n",
       "      <td>Bellevue</td>\n",
       "    </tr>\n",
       "    <tr>\n",
       "      <th>4</th>\n",
       "      <td>550000.0</td>\n",
       "      <td>4.0</td>\n",
       "      <td>2.50</td>\n",
       "      <td>1940</td>\n",
       "      <td>10500</td>\n",
       "      <td>1.0</td>\n",
       "      <td>0</td>\n",
       "      <td>0</td>\n",
       "      <td>4</td>\n",
       "      <td>1140</td>\n",
       "      <td>800</td>\n",
       "      <td>Redmond</td>\n",
       "    </tr>\n",
       "  </tbody>\n",
       "</table>\n",
       "</div>"
      ],
      "text/plain": [
       "       price  bedrooms  bathrooms  sqft_living  sqft_lot  floors  waterfront  \\\n",
       "0   313000.0       3.0       1.50         1340      7912     1.5           0   \n",
       "1  2384000.0       5.0       2.50         3650      9050     2.0           0   \n",
       "2   342000.0       3.0       2.00         1930     11947     1.0           0   \n",
       "3   420000.0       3.0       2.25         2000      8030     1.0           0   \n",
       "4   550000.0       4.0       2.50         1940     10500     1.0           0   \n",
       "\n",
       "   view  condition  sqft_above  sqft_basement       city  \n",
       "0     0          3        1340              0  Shoreline  \n",
       "1     4          5        3370            280    Seattle  \n",
       "2     0          4        1930              0       Kent  \n",
       "3     0          4        1000           1000   Bellevue  \n",
       "4     0          4        1140            800    Redmond  "
      ]
     },
     "execution_count": 5,
     "metadata": {},
     "output_type": "execute_result"
    }
   ],
   "source": [
    "\n",
    "data  = data.drop(['date','country',\"street\",\"statezip\",\"yr_built\",\"yr_renovated\"],axis=1)\n",
    "data.head()"
   ]
  },
  {
   "cell_type": "code",
   "execution_count": 6,
   "id": "87b54c71",
   "metadata": {
    "execution": {
     "iopub.execute_input": "2022-11-05T08:25:29.020509Z",
     "iopub.status.busy": "2022-11-05T08:25:29.019655Z",
     "iopub.status.idle": "2022-11-05T08:25:29.025233Z",
     "shell.execute_reply": "2022-11-05T08:25:29.023946Z"
    },
    "papermill": {
     "duration": 0.01951,
     "end_time": "2022-11-05T08:25:29.027633",
     "exception": false,
     "start_time": "2022-11-05T08:25:29.008123",
     "status": "completed"
    },
    "tags": []
   },
   "outputs": [],
   "source": [
    "le = LabelEncoder()"
   ]
  },
  {
   "cell_type": "code",
   "execution_count": 7,
   "id": "79e08a06",
   "metadata": {
    "execution": {
     "iopub.execute_input": "2022-11-05T08:25:29.050061Z",
     "iopub.status.busy": "2022-11-05T08:25:29.049622Z",
     "iopub.status.idle": "2022-11-05T08:25:29.058985Z",
     "shell.execute_reply": "2022-11-05T08:25:29.057952Z"
    },
    "papermill": {
     "duration": 0.023815,
     "end_time": "2022-11-05T08:25:29.061671",
     "exception": false,
     "start_time": "2022-11-05T08:25:29.037856",
     "status": "completed"
    },
    "tags": []
   },
   "outputs": [],
   "source": [
    "data['city_new'] = le.fit_transform(data['city'])\n"
   ]
  },
  {
   "cell_type": "code",
   "execution_count": 8,
   "id": "58495df7",
   "metadata": {
    "execution": {
     "iopub.execute_input": "2022-11-05T08:25:29.085329Z",
     "iopub.status.busy": "2022-11-05T08:25:29.084522Z",
     "iopub.status.idle": "2022-11-05T08:25:29.094941Z",
     "shell.execute_reply": "2022-11-05T08:25:29.093411Z"
    },
    "papermill": {
     "duration": 0.026067,
     "end_time": "2022-11-05T08:25:29.098176",
     "exception": false,
     "start_time": "2022-11-05T08:25:29.072109",
     "status": "completed"
    },
    "tags": []
   },
   "outputs": [],
   "source": [
    "cols  = ['bedrooms',\"bathrooms\",\"floors\",\"price\"]\n",
    "\n",
    "for  col in cols :\n",
    "    data[col] = data[col].astype(int)\n",
    "\n",
    "# Because how can 1.50 bathroom exists"
   ]
  },
  {
   "cell_type": "code",
   "execution_count": 9,
   "id": "101ec19d",
   "metadata": {
    "execution": {
     "iopub.execute_input": "2022-11-05T08:25:29.120976Z",
     "iopub.status.busy": "2022-11-05T08:25:29.120502Z",
     "iopub.status.idle": "2022-11-05T08:25:29.136886Z",
     "shell.execute_reply": "2022-11-05T08:25:29.135439Z"
    },
    "papermill": {
     "duration": 0.031037,
     "end_time": "2022-11-05T08:25:29.139498",
     "exception": false,
     "start_time": "2022-11-05T08:25:29.108461",
     "status": "completed"
    },
    "tags": []
   },
   "outputs": [
    {
     "data": {
      "text/html": [
       "<div>\n",
       "<style scoped>\n",
       "    .dataframe tbody tr th:only-of-type {\n",
       "        vertical-align: middle;\n",
       "    }\n",
       "\n",
       "    .dataframe tbody tr th {\n",
       "        vertical-align: top;\n",
       "    }\n",
       "\n",
       "    .dataframe thead th {\n",
       "        text-align: right;\n",
       "    }\n",
       "</style>\n",
       "<table border=\"1\" class=\"dataframe\">\n",
       "  <thead>\n",
       "    <tr style=\"text-align: right;\">\n",
       "      <th></th>\n",
       "      <th>price</th>\n",
       "      <th>bedrooms</th>\n",
       "      <th>bathrooms</th>\n",
       "      <th>sqft_living</th>\n",
       "      <th>sqft_lot</th>\n",
       "      <th>floors</th>\n",
       "      <th>waterfront</th>\n",
       "      <th>view</th>\n",
       "      <th>condition</th>\n",
       "      <th>sqft_above</th>\n",
       "      <th>sqft_basement</th>\n",
       "      <th>city</th>\n",
       "      <th>city_new</th>\n",
       "    </tr>\n",
       "  </thead>\n",
       "  <tbody>\n",
       "    <tr>\n",
       "      <th>0</th>\n",
       "      <td>313000</td>\n",
       "      <td>3</td>\n",
       "      <td>1</td>\n",
       "      <td>1340</td>\n",
       "      <td>7912</td>\n",
       "      <td>1</td>\n",
       "      <td>0</td>\n",
       "      <td>0</td>\n",
       "      <td>3</td>\n",
       "      <td>1340</td>\n",
       "      <td>0</td>\n",
       "      <td>Shoreline</td>\n",
       "      <td>36</td>\n",
       "    </tr>\n",
       "    <tr>\n",
       "      <th>1</th>\n",
       "      <td>2384000</td>\n",
       "      <td>5</td>\n",
       "      <td>2</td>\n",
       "      <td>3650</td>\n",
       "      <td>9050</td>\n",
       "      <td>2</td>\n",
       "      <td>0</td>\n",
       "      <td>4</td>\n",
       "      <td>5</td>\n",
       "      <td>3370</td>\n",
       "      <td>280</td>\n",
       "      <td>Seattle</td>\n",
       "      <td>35</td>\n",
       "    </tr>\n",
       "    <tr>\n",
       "      <th>2</th>\n",
       "      <td>342000</td>\n",
       "      <td>3</td>\n",
       "      <td>2</td>\n",
       "      <td>1930</td>\n",
       "      <td>11947</td>\n",
       "      <td>1</td>\n",
       "      <td>0</td>\n",
       "      <td>0</td>\n",
       "      <td>4</td>\n",
       "      <td>1930</td>\n",
       "      <td>0</td>\n",
       "      <td>Kent</td>\n",
       "      <td>18</td>\n",
       "    </tr>\n",
       "    <tr>\n",
       "      <th>3</th>\n",
       "      <td>420000</td>\n",
       "      <td>3</td>\n",
       "      <td>2</td>\n",
       "      <td>2000</td>\n",
       "      <td>8030</td>\n",
       "      <td>1</td>\n",
       "      <td>0</td>\n",
       "      <td>0</td>\n",
       "      <td>4</td>\n",
       "      <td>1000</td>\n",
       "      <td>1000</td>\n",
       "      <td>Bellevue</td>\n",
       "      <td>3</td>\n",
       "    </tr>\n",
       "    <tr>\n",
       "      <th>4</th>\n",
       "      <td>550000</td>\n",
       "      <td>4</td>\n",
       "      <td>2</td>\n",
       "      <td>1940</td>\n",
       "      <td>10500</td>\n",
       "      <td>1</td>\n",
       "      <td>0</td>\n",
       "      <td>0</td>\n",
       "      <td>4</td>\n",
       "      <td>1140</td>\n",
       "      <td>800</td>\n",
       "      <td>Redmond</td>\n",
       "      <td>31</td>\n",
       "    </tr>\n",
       "  </tbody>\n",
       "</table>\n",
       "</div>"
      ],
      "text/plain": [
       "     price  bedrooms  bathrooms  sqft_living  sqft_lot  floors  waterfront  \\\n",
       "0   313000         3          1         1340      7912       1           0   \n",
       "1  2384000         5          2         3650      9050       2           0   \n",
       "2   342000         3          2         1930     11947       1           0   \n",
       "3   420000         3          2         2000      8030       1           0   \n",
       "4   550000         4          2         1940     10500       1           0   \n",
       "\n",
       "   view  condition  sqft_above  sqft_basement       city  city_new  \n",
       "0     0          3        1340              0  Shoreline        36  \n",
       "1     4          5        3370            280    Seattle        35  \n",
       "2     0          4        1930              0       Kent        18  \n",
       "3     0          4        1000           1000   Bellevue         3  \n",
       "4     0          4        1140            800    Redmond        31  "
      ]
     },
     "execution_count": 9,
     "metadata": {},
     "output_type": "execute_result"
    }
   ],
   "source": [
    "data.head()"
   ]
  },
  {
   "cell_type": "code",
   "execution_count": 10,
   "id": "ea52dc4b",
   "metadata": {
    "execution": {
     "iopub.execute_input": "2022-11-05T08:25:29.479804Z",
     "iopub.status.busy": "2022-11-05T08:25:29.478912Z",
     "iopub.status.idle": "2022-11-05T08:25:29.695123Z",
     "shell.execute_reply": "2022-11-05T08:25:29.693698Z"
    },
    "papermill": {
     "duration": 0.231745,
     "end_time": "2022-11-05T08:25:29.698138",
     "exception": false,
     "start_time": "2022-11-05T08:25:29.466393",
     "status": "completed"
    },
    "tags": []
   },
   "outputs": [
    {
     "data": {
      "text/plain": [
       "<Axes: xlabel='condition', ylabel='count'>"
      ]
     },
     "execution_count": 10,
     "metadata": {},
     "output_type": "execute_result"
    },
    {
     "data": {
      "image/png": "[encoded data removed]",
      "text/plain": [
       "<Figure size 640x480 with 1 Axes>"
      ]
     },
     "metadata": {},
     "output_type": "display_data"
    }
   ],
   "source": [
    "sns.countplot(data=data,x=data['condition'])"
   ]
  },
  {
   "cell_type": "code",
   "execution_count": 11,
   "id": "41e4d100",
   "metadata": {
    "execution": {
     "iopub.execute_input": "2022-11-05T08:25:30.328068Z",
     "iopub.status.busy": "2022-11-05T08:25:30.327436Z",
     "iopub.status.idle": "2022-11-05T08:25:30.337400Z",
     "shell.execute_reply": "2022-11-05T08:25:30.336508Z"
    },
    "papermill": {
     "duration": 0.025507,
     "end_time": "2022-11-05T08:25:30.339545",
     "exception": false,
     "start_time": "2022-11-05T08:25:30.314038",
     "status": "completed"
    },
    "tags": []
   },
   "outputs": [
    {
     "data": {
      "text/plain": [
       "city\n",
       "Seattle                1573\n",
       "Renton                  293\n",
       "Bellevue                286\n",
       "Redmond                 235\n",
       "Issaquah                187\n",
       "Kirkland                187\n",
       "Kent                    185\n",
       "Auburn                  176\n",
       "Sammamish               175\n",
       "Federal Way             148\n",
       "Shoreline               123\n",
       "Woodinville             115\n",
       "Maple Valley             96\n",
       "Mercer Island            86\n",
       "Burien                   74\n",
       "Snoqualmie               71\n",
       "Kenmore                  66\n",
       "Des Moines               58\n",
       "North Bend               50\n",
       "Covington                43\n",
       "Duvall                   42\n",
       "Lake Forest Park         36\n",
       "Bothell                  33\n",
       "Newcastle                33\n",
       "SeaTac                   29\n",
       "Tukwila                  29\n",
       "Vashon                   29\n",
       "Enumclaw                 28\n",
       "Carnation                22\n",
       "Normandy Park            18\n",
       "Clyde Hill               11\n",
       "Medina                   11\n",
       "Fall City                11\n",
       "Black Diamond             9\n",
       "Ravensdale                7\n",
       "Pacific                   6\n",
       "Algona                    5\n",
       "Yarrow Point              4\n",
       "Skykomish                 3\n",
       "Preston                   2\n",
       "Milton                    2\n",
       "Inglewood-Finn Hill       1\n",
       "Snoqualmie Pass           1\n",
       "Beaux Arts Village        1\n",
       "Name: count, dtype: int64"
      ]
     },
     "execution_count": 11,
     "metadata": {},
     "output_type": "execute_result"
    }
   ],
   "source": [
    "data['city'].value_counts()"
   ]
  },
  {
   "cell_type": "code",
   "execution_count": 12,
   "id": "8f160844",
   "metadata": {
    "execution": {
     "iopub.execute_input": "2022-11-05T08:25:30.365700Z",
     "iopub.status.busy": "2022-11-05T08:25:30.365038Z",
     "iopub.status.idle": "2022-11-05T08:25:30.602652Z",
     "shell.execute_reply": "2022-11-05T08:25:30.601799Z"
    },
    "papermill": {
     "duration": 0.253522,
     "end_time": "2022-11-05T08:25:30.605014",
     "exception": false,
     "start_time": "2022-11-05T08:25:30.351492",
     "status": "completed"
    },
    "tags": []
   },
   "outputs": [
    {
     "data": {
      "text/plain": [
       "<Axes: title={'center': 'price Range'}>"
      ]
     },
     "execution_count": 12,
     "metadata": {},
     "output_type": "execute_result"
    },
    {
     "data": {
      "image/png": "[encoded data removed]",
      "text/plain": [
       "<Figure size 640x480 with 1 Axes>"
      ]
     },
     "metadata": {},
     "output_type": "display_data"
    }
   ],
   "source": [
    "data['price'].plot(title='price Range')"
   ]
  },
  {
   "cell_type": "code",
   "execution_count": 13,
   "id": "a67df3de",
   "metadata": {
    "execution": {
     "iopub.execute_input": "2022-11-05T08:25:30.632224Z",
     "iopub.status.busy": "2022-11-05T08:25:30.631444Z",
     "iopub.status.idle": "2022-11-05T08:25:30.638410Z",
     "shell.execute_reply": "2022-11-05T08:25:30.637266Z"
    },
    "papermill": {
     "duration": 0.023171,
     "end_time": "2022-11-05T08:25:30.640841",
     "exception": false,
     "start_time": "2022-11-05T08:25:30.617670",
     "status": "completed"
    },
    "tags": []
   },
   "outputs": [
    {
     "data": {
      "text/plain": [
       "551962.9754347826"
      ]
     },
     "execution_count": 13,
     "metadata": {},
     "output_type": "execute_result"
    }
   ],
   "source": [
    "np.mean(data['price'])"
   ]
  },
  {
   "cell_type": "code",
   "execution_count": 14,
   "id": "e93dadf9",
   "metadata": {
    "execution": {
     "iopub.execute_input": "2022-11-05T08:25:30.667111Z",
     "iopub.status.busy": "2022-11-05T08:25:30.666605Z",
     "iopub.status.idle": "2022-11-05T08:25:30.861896Z",
     "shell.execute_reply": "2022-11-05T08:25:30.860676Z"
    },
    "papermill": {
     "duration": 0.21127,
     "end_time": "2022-11-05T08:25:30.864446",
     "exception": false,
     "start_time": "2022-11-05T08:25:30.653176",
     "status": "completed"
    },
    "tags": []
   },
   "outputs": [
    {
     "data": {
      "text/plain": [
       "<Axes: xlabel='floors', ylabel='count'>"
      ]
     },
     "execution_count": 14,
     "metadata": {},
     "output_type": "execute_result"
    },
    {
     "data": {
      "image/png": "[encoded data removed]",
      "text/plain": [
       "<Figure size 640x480 with 1 Axes>"
      ]
     },
     "metadata": {},
     "output_type": "display_data"
    }
   ],
   "source": [
    "sns.countplot(data=data,x=data['floors'])"
   ]
  },
  {
   "cell_type": "code",
   "execution_count": 15,
   "id": "9b40aea2",
   "metadata": {
    "execution": {
     "iopub.execute_input": "2022-11-05T08:25:30.891036Z",
     "iopub.status.busy": "2022-11-05T08:25:30.889937Z",
     "iopub.status.idle": "2022-11-05T08:25:31.110151Z",
     "shell.execute_reply": "2022-11-05T08:25:31.109298Z"
    },
    "papermill": {
     "duration": 0.236117,
     "end_time": "2022-11-05T08:25:31.112606",
     "exception": false,
     "start_time": "2022-11-05T08:25:30.876489",
     "status": "completed"
    },
    "tags": []
   },
   "outputs": [
    {
     "data": {
      "text/plain": [
       "<Axes: xlabel='bathrooms', ylabel='count'>"
      ]
     },
     "execution_count": 15,
     "metadata": {},
     "output_type": "execute_result"
    },
    {
     "data": {
      "image/png": "[encoded data removed]",
      "text/plain": [
       "<Figure size 640x480 with 1 Axes>"
      ]
     },
     "metadata": {},
     "output_type": "display_data"
    }
   ],
   "source": [
    "sns.countplot(data=data,x=data['bathrooms'])"
   ]
  },
  {
   "cell_type": "code",
   "execution_count": 16,
   "id": "ecc0c0fa",
   "metadata": {
    "execution": {
     "iopub.execute_input": "2022-11-05T08:25:31.140448Z",
     "iopub.status.busy": "2022-11-05T08:25:31.139323Z",
     "iopub.status.idle": "2022-11-05T08:25:31.391756Z",
     "shell.execute_reply": "2022-11-05T08:25:31.390457Z"
    },
    "papermill": {
     "duration": 0.26891,
     "end_time": "2022-11-05T08:25:31.394121",
     "exception": false,
     "start_time": "2022-11-05T08:25:31.125211",
     "status": "completed"
    },
    "tags": []
   },
   "outputs": [
    {
     "data": {
      "text/plain": [
       "<Axes: xlabel='bedrooms', ylabel='count'>"
      ]
     },
     "execution_count": 16,
     "metadata": {},
     "output_type": "execute_result"
    },
    {
     "data": {
      "image/png": "[encoded data removed]",
      "text/plain": [
       "<Figure size 640x480 with 1 Axes>"
      ]
     },
     "metadata": {},
     "output_type": "display_data"
    }
   ],
   "source": [
    "sns.countplot(data=data,x=data['bedrooms'])"
   ]
  },
  {
   "cell_type": "code",
   "execution_count": 17,
   "id": "d491175d",
   "metadata": {
    "execution": {
     "iopub.execute_input": "2022-11-05T08:25:31.421492Z",
     "iopub.status.busy": "2022-11-05T08:25:31.421059Z",
     "iopub.status.idle": "2022-11-05T08:25:31.604739Z",
     "shell.execute_reply": "2022-11-05T08:25:31.603899Z"
    },
    "papermill": {
     "duration": 0.200317,
     "end_time": "2022-11-05T08:25:31.607467",
     "exception": false,
     "start_time": "2022-11-05T08:25:31.407150",
     "status": "completed"
    },
    "tags": []
   },
   "outputs": [
    {
     "data": {
      "text/plain": [
       "<Axes: xlabel='waterfront', ylabel='count'>"
      ]
     },
     "execution_count": 17,
     "metadata": {},
     "output_type": "execute_result"
    },
    {
     "data": {
      "image/png": "[encoded data removed]",
      "text/plain": [
       "<Figure size 640x480 with 1 Axes>"
      ]
     },
     "metadata": {},
     "output_type": "display_data"
    }
   ],
   "source": [
    "sns.countplot(data=data,x=data['waterfront'])"
   ]
  },
  {
   "cell_type": "markdown",
   "id": "160e09e0",
   "metadata": {
    "papermill": {
     "duration": 0.013553,
     "end_time": "2022-11-05T08:25:31.660822",
     "exception": false,
     "start_time": "2022-11-05T08:25:31.647269",
     "status": "completed"
    },
    "tags": []
   },
   "source": [
    "## Model Creation"
   ]
  },
  {
   "cell_type": "code",
   "execution_count": 18,
   "id": "a00ed84d",
   "metadata": {
    "execution": {
     "iopub.execute_input": "2022-11-05T08:25:31.689713Z",
     "iopub.status.busy": "2022-11-05T08:25:31.689309Z",
     "iopub.status.idle": "2022-11-05T08:25:31.699095Z",
     "shell.execute_reply": "2022-11-05T08:25:31.698235Z"
    },
    "papermill": {
     "duration": 0.027012,
     "end_time": "2022-11-05T08:25:31.701749",
     "exception": false,
     "start_time": "2022-11-05T08:25:31.674737",
     "status": "completed"
    },
    "tags": []
   },
   "outputs": [
    {
     "data": {
      "text/plain": [
       "sqft_basement\n",
       "0       2745\n",
       "500       53\n",
       "600       45\n",
       "800       43\n",
       "900       41\n",
       "        ... \n",
       "2300       1\n",
       "265        1\n",
       "1610       1\n",
       "862        1\n",
       "1640       1\n",
       "Name: count, Length: 207, dtype: int64"
      ]
     },
     "execution_count": 18,
     "metadata": {},
     "output_type": "execute_result"
    }
   ],
   "source": [
    "data['sqft_basement'].value_counts()"
   ]
  },
  {
   "cell_type": "code",
   "execution_count": 19,
   "id": "cf79255f",
   "metadata": {
    "execution": {
     "iopub.execute_input": "2022-11-05T08:25:31.731019Z",
     "iopub.status.busy": "2022-11-05T08:25:31.730556Z",
     "iopub.status.idle": "2022-11-05T08:25:31.738304Z",
     "shell.execute_reply": "2022-11-05T08:25:31.736852Z"
    },
    "papermill": {
     "duration": 0.025349,
     "end_time": "2022-11-05T08:25:31.740891",
     "exception": false,
     "start_time": "2022-11-05T08:25:31.715542",
     "status": "completed"
    },
    "tags": []
   },
   "outputs": [],
   "source": [
    "data = data.drop([\"city\",\"view\",\"waterfront\",\"sqft_basement\"],axis=1)"
   ]
  },
  {
   "cell_type": "code",
   "execution_count": 20,
   "id": "40dce89c",
   "metadata": {
    "execution": {
     "iopub.execute_input": "2022-11-05T08:25:31.822281Z",
     "iopub.status.busy": "2022-11-05T08:25:31.821767Z",
     "iopub.status.idle": "2022-11-05T08:25:31.829605Z",
     "shell.execute_reply": "2022-11-05T08:25:31.828190Z"
    },
    "papermill": {
     "duration": 0.025326,
     "end_time": "2022-11-05T08:25:31.832232",
     "exception": false,
     "start_time": "2022-11-05T08:25:31.806906",
     "status": "completed"
    },
    "tags": []
   },
   "outputs": [],
   "source": [
    "x  = np.array(data.loc[:,data.columns != \"price\"].values)\n",
    "y = np.array(data[\"price\"].values)"
   ]
  },
  {
   "cell_type": "code",
   "execution_count": 21,
   "id": "2cada5be",
   "metadata": {
    "execution": {
     "iopub.execute_input": "2022-11-05T08:25:31.860997Z",
     "iopub.status.busy": "2022-11-05T08:25:31.860507Z",
     "iopub.status.idle": "2022-11-05T08:25:31.868697Z",
     "shell.execute_reply": "2022-11-05T08:25:31.867705Z"
    },
    "papermill": {
     "duration": 0.02536,
     "end_time": "2022-11-05T08:25:31.871073",
     "exception": false,
     "start_time": "2022-11-05T08:25:31.845713",
     "status": "completed"
    },
    "tags": []
   },
   "outputs": [
    {
     "data": {
      "text/plain": [
       "array([[   3,    1, 1340, ...,    3, 1340,   36],\n",
       "       [   5,    2, 3650, ...,    5, 3370,   35],\n",
       "       [   3,    2, 1930, ...,    4, 1930,   18],\n",
       "       ...,\n",
       "       [   3,    2, 3010, ...,    3, 3010,   32],\n",
       "       [   4,    2, 2090, ...,    3, 1070,   35],\n",
       "       [   3,    2, 1490, ...,    4, 1490,    9]], dtype=int64)"
      ]
     },
     "execution_count": 21,
     "metadata": {},
     "output_type": "execute_result"
    }
   ],
   "source": [
    "x"
   ]
  },
  {
   "cell_type": "code",
   "execution_count": 22,
   "id": "2dba4b6c",
   "metadata": {
    "execution": {
     "iopub.execute_input": "2022-11-05T08:25:31.899555Z",
     "iopub.status.busy": "2022-11-05T08:25:31.899146Z",
     "iopub.status.idle": "2022-11-05T08:25:31.905957Z",
     "shell.execute_reply": "2022-11-05T08:25:31.904792Z"
    },
    "papermill": {
     "duration": 0.024129,
     "end_time": "2022-11-05T08:25:31.908496",
     "exception": false,
     "start_time": "2022-11-05T08:25:31.884367",
     "status": "completed"
    },
    "tags": []
   },
   "outputs": [
    {
     "data": {
      "text/plain": [
       "array([ 313000, 2384000,  342000, ...,  416904,  203400,  220600])"
      ]
     },
     "execution_count": 22,
     "metadata": {},
     "output_type": "execute_result"
    }
   ],
   "source": [
    "y"
   ]
  },
  {
   "cell_type": "code",
   "execution_count": 23,
   "id": "03618f50",
   "metadata": {
    "execution": {
     "iopub.execute_input": "2022-11-05T08:25:31.937320Z",
     "iopub.status.busy": "2022-11-05T08:25:31.936881Z",
     "iopub.status.idle": "2022-11-05T08:25:31.944616Z",
     "shell.execute_reply": "2022-11-05T08:25:31.943245Z"
    },
    "papermill": {
     "duration": 0.024941,
     "end_time": "2022-11-05T08:25:31.947081",
     "exception": false,
     "start_time": "2022-11-05T08:25:31.922140",
     "status": "completed"
    },
    "tags": []
   },
   "outputs": [],
   "source": [
    "x_train,x_test,y_train,y_test = train_test_split(x,y,test_size=0.1,random_state=42)"
   ]
  },
  {
   "cell_type": "code",
   "execution_count": 24,
   "id": "17dbd7a0",
   "metadata": {
    "execution": {
     "iopub.execute_input": "2022-11-05T08:25:31.975637Z",
     "iopub.status.busy": "2022-11-05T08:25:31.975207Z",
     "iopub.status.idle": "2022-11-05T08:25:31.982824Z",
     "shell.execute_reply": "2022-11-05T08:25:31.981979Z"
    },
    "papermill": {
     "duration": 0.024459,
     "end_time": "2022-11-05T08:25:31.984999",
     "exception": false,
     "start_time": "2022-11-05T08:25:31.960540",
     "status": "completed"
    },
    "tags": []
   },
   "outputs": [
    {
     "data": {
      "text/plain": [
       "array([[   3,    1, 1340, ...,    3, 1340,   36],\n",
       "       [   5,    2, 3650, ...,    5, 3370,   35],\n",
       "       [   3,    2, 1930, ...,    4, 1930,   18],\n",
       "       ...,\n",
       "       [   3,    2, 3010, ...,    3, 3010,   32],\n",
       "       [   4,    2, 2090, ...,    3, 1070,   35],\n",
       "       [   3,    2, 1490, ...,    4, 1490,    9]], dtype=int64)"
      ]
     },
     "execution_count": 24,
     "metadata": {},
     "output_type": "execute_result"
    }
   ],
   "source": [
    "x"
   ]
  },
  {
   "cell_type": "code",
   "execution_count": 25,
   "id": "4b754402",
   "metadata": {
    "execution": {
     "iopub.execute_input": "2022-11-05T08:25:32.040456Z",
     "iopub.status.busy": "2022-11-05T08:25:32.040032Z",
     "iopub.status.idle": "2022-11-05T08:25:32.067598Z",
     "shell.execute_reply": "2022-11-05T08:25:32.066056Z"
    },
    "papermill": {
     "duration": 0.044743,
     "end_time": "2022-11-05T08:25:32.070063",
     "exception": false,
     "start_time": "2022-11-05T08:25:32.025320",
     "status": "completed"
    },
    "tags": []
   },
   "outputs": [
    {
     "data": {
      "text/html": [
       "<style>#sk-container-id-1 {color: black;}#sk-container-id-1 pre{padding: 0;}#sk-container-id-1 div.sk-toggleable {background-color: white;}#sk-container-id-1 label.sk-toggleable__label {cursor: pointer;display: block;width: 100%;margin-bottom: 0;padding: 0.3em;box-sizing: border-box;text-align: center;}#sk-container-id-1 label.sk-toggleable__label-arrow:before {content: \"▸\";float: left;margin-right: 0.25em;color: #696969;}#sk-container-id-1 label.sk-toggleable__label-arrow:hover:before {color: black;}#sk-container-id-1 div.sk-estimator:hover label.sk-toggleable__label-arrow:before {color: black;}#sk-container-id-1 div.sk-toggleable__content {max-height: 0;max-width: 0;overflow: hidden;text-align: left;background-color: #f0f8ff;}#sk-container-id-1 div.sk-toggleable__content pre {margin: 0.2em;color: black;border-radius: 0.25em;background-color: #f0f8ff;}#sk-container-id-1 input.sk-toggleable__control:checked~div.sk-toggleable__content {max-height: 200px;max-width: 100%;overflow: auto;}#sk-container-id-1 input.sk-toggleable__control:checked~label.sk-toggleable__label-arrow:before {content: \"▾\";}#sk-container-id-1 div.sk-estimator input.sk-toggleable__control:checked~label.sk-toggleable__label {background-color: #d4ebff;}#sk-container-id-1 div.sk-label input.sk-toggleable__control:checked~label.sk-toggleable__label {background-color: #d4ebff;}#sk-container-id-1 input.sk-hidden--visually {border: 0;clip: rect(1px 1px 1px 1px);clip: rect(1px, 1px, 1px, 1px);height: 1px;margin: -1px;overflow: hidden;padding: 0;position: absolute;width: 1px;}#sk-container-id-1 div.sk-estimator {font-family: monospace;background-color: #f0f8ff;border: 1px dotted black;border-radius: 0.25em;box-sizing: border-box;margin-bottom: 0.5em;}#sk-container-id-1 div.sk-estimator:hover {background-color: #d4ebff;}#sk-container-id-1 div.sk-parallel-item::after {content: \"\";width: 100%;border-bottom: 1px solid gray;flex-grow: 1;}#sk-container-id-1 div.sk-label:hover label.sk-toggleable__label {background-color: #d4ebff;}#sk-container-id-1 div.sk-serial::before {content: \"\";position: absolute;border-left: 1px solid gray;box-sizing: border-box;top: 0;bottom: 0;left: 50%;z-index: 0;}#sk-container-id-1 div.sk-serial {display: flex;flex-direction: column;align-items: center;background-color: white;padding-right: 0.2em;padding-left: 0.2em;position: relative;}#sk-container-id-1 div.sk-item {position: relative;z-index: 1;}#sk-container-id-1 div.sk-parallel {display: flex;align-items: stretch;justify-content: center;background-color: white;position: relative;}#sk-container-id-1 div.sk-item::before, #sk-container-id-1 div.sk-parallel-item::before {content: \"\";position: absolute;border-left: 1px solid gray;box-sizing: border-box;top: 0;bottom: 0;left: 50%;z-index: -1;}#sk-container-id-1 div.sk-parallel-item {display: flex;flex-direction: column;z-index: 1;position: relative;background-color: white;}#sk-container-id-1 div.sk-parallel-item:first-child::after {align-self: flex-end;width: 50%;}#sk-container-id-1 div.sk-parallel-item:last-child::after {align-self: flex-start;width: 50%;}#sk-container-id-1 div.sk-parallel-item:only-child::after {width: 0;}#sk-container-id-1 div.sk-dashed-wrapped {border: 1px dashed gray;margin: 0 0.4em 0.5em 0.4em;box-sizing: border-box;padding-bottom: 0.4em;background-color: white;}#sk-container-id-1 div.sk-label label {font-family: monospace;font-weight: bold;display: inline-block;line-height: 1.2em;}#sk-container-id-1 div.sk-label-container {text-align: center;}#sk-container-id-1 div.sk-container {/* jupyter's `normalize.less` sets `[hidden] { display: none; }` but bootstrap.min.css set `[hidden] { display: none !important; }` so we also need the `!important` here to be able to override the default hidden behavior on the sphinx rendered scikit-learn.org. See: https://github.com/scikit-learn/scikit-learn/issues/21755 */display: inline-block !important;position: relative;}#sk-container-id-1 div.sk-text-repr-fallback {display: none;}</style><div id=\"sk-container-id-1\" class=\"sk-top-container\"><div class=\"sk-text-repr-fallback\"><pre>LinearRegression()</pre><b>In a Jupyter environment, please rerun this cell to show the HTML representation or trust the notebook. <br />On GitHub, the HTML representation is unable to render, please try loading this page with nbviewer.org.</b></div><div class=\"sk-container\" hidden><div class=\"sk-item\"><div class=\"sk-estimator sk-toggleable\"><input class=\"sk-toggleable__control sk-hidden--visually\" id=\"sk-estimator-id-1\" type=\"checkbox\" checked><label for=\"sk-estimator-id-1\" class=\"sk-toggleable__label sk-toggleable__label-arrow\">LinearRegression</label><div class=\"sk-toggleable__content\"><pre>LinearRegression()</pre></div></div></div></div></div>"
      ],
      "text/plain": [
       "LinearRegression()"
      ]
     },
     "execution_count": 25,
     "metadata": {},
     "output_type": "execute_result"
    }
   ],
   "source": [
    "model_lr = LinearRegression()\n",
    "model_lr.fit(x_train,y_train)"
   ]
  },
  {
   "cell_type": "code",
   "execution_count": 26,
   "id": "4154b24a",
   "metadata": {
    "execution": {
     "iopub.execute_input": "2022-11-05T08:25:32.099871Z",
     "iopub.status.busy": "2022-11-05T08:25:32.099154Z",
     "iopub.status.idle": "2022-11-05T08:25:32.108611Z",
     "shell.execute_reply": "2022-11-05T08:25:32.107058Z"
    },
    "papermill": {
     "duration": 0.027656,
     "end_time": "2022-11-05T08:25:32.111250",
     "exception": false,
     "start_time": "2022-11-05T08:25:32.083594",
     "status": "completed"
    },
    "tags": []
   },
   "outputs": [],
   "source": [
    "predictions_lr = model_lr.predict(x_test)"
   ]
  },
  {
   "cell_type": "code",
   "execution_count": 27,
   "id": "e7210f04",
   "metadata": {
    "execution": {
     "iopub.execute_input": "2022-11-05T08:25:32.143266Z",
     "iopub.status.busy": "2022-11-05T08:25:32.141898Z",
     "iopub.status.idle": "2022-11-05T08:25:32.154013Z",
     "shell.execute_reply": "2022-11-05T08:25:32.152405Z"
    },
    "papermill": {
     "duration": 0.03151,
     "end_time": "2022-11-05T08:25:32.156761",
     "exception": false,
     "start_time": "2022-11-05T08:25:32.125251",
     "status": "completed"
    },
    "tags": []
   },
   "outputs": [
    {
     "data": {
      "text/plain": [
       "0.3183144703701215"
      ]
     },
     "execution_count": 27,
     "metadata": {},
     "output_type": "execute_result"
    }
   ],
   "source": [
    "mean_absolute_percentage_error(predictions_lr,y_test)"
   ]
  },
  {
   "cell_type": "code",
   "execution_count": 28,
   "id": "ac1f2b3e",
   "metadata": {
    "execution": {
     "iopub.execute_input": "2022-11-05T08:25:32.216071Z",
     "iopub.status.busy": "2022-11-05T08:25:32.215312Z",
     "iopub.status.idle": "2022-11-05T08:25:32.369227Z",
     "shell.execute_reply": "2022-11-05T08:25:32.367811Z"
    },
    "papermill": {
     "duration": 0.172599,
     "end_time": "2022-11-05T08:25:32.372327",
     "exception": false,
     "start_time": "2022-11-05T08:25:32.199728",
     "status": "completed"
    },
    "tags": []
   },
   "outputs": [],
   "source": [
    "model = RandomForestRegressor(n_estimators=10)\n",
    "model.fit(x_train,y_train)\n",
    "predictions = model.predict(x_test)"
   ]
  },
  {
   "cell_type": "code",
   "execution_count": 29,
   "id": "4bbf64d2",
   "metadata": {
    "execution": {
     "iopub.execute_input": "2022-11-05T08:25:32.401682Z",
     "iopub.status.busy": "2022-11-05T08:25:32.401256Z",
     "iopub.status.idle": "2022-11-05T08:25:32.409150Z",
     "shell.execute_reply": "2022-11-05T08:25:32.408030Z"
    },
    "papermill": {
     "duration": 0.025347,
     "end_time": "2022-11-05T08:25:32.411577",
     "exception": false,
     "start_time": "2022-11-05T08:25:32.386230",
     "status": "completed"
    },
    "tags": []
   },
   "outputs": [
    {
     "data": {
      "text/plain": [
       "0.24210417557737207"
      ]
     },
     "execution_count": 29,
     "metadata": {},
     "output_type": "execute_result"
    }
   ],
   "source": [
    "mean_absolute_percentage_error(predictions,y_test)"
   ]
  },
  {
   "cell_type": "code",
   "execution_count": 32,
   "id": "0a16e9cb",
   "metadata": {},
   "outputs": [
    {
     "data": {
      "text/html": [
       "<div>\n",
       "<style scoped>\n",
       "    .dataframe tbody tr th:only-of-type {\n",
       "        vertical-align: middle;\n",
       "    }\n",
       "\n",
       "    .dataframe tbody tr th {\n",
       "        vertical-align: top;\n",
       "    }\n",
       "\n",
       "    .dataframe thead th {\n",
       "        text-align: right;\n",
       "    }\n",
       "</style>\n",
       "<table border=\"1\" class=\"dataframe\">\n",
       "  <thead>\n",
       "    <tr style=\"text-align: right;\">\n",
       "      <th></th>\n",
       "      <th>price</th>\n",
       "      <th>bedrooms</th>\n",
       "      <th>bathrooms</th>\n",
       "      <th>sqft_living</th>\n",
       "      <th>sqft_lot</th>\n",
       "      <th>floors</th>\n",
       "      <th>condition</th>\n",
       "      <th>sqft_above</th>\n",
       "      <th>city_new</th>\n",
       "    </tr>\n",
       "  </thead>\n",
       "  <tbody>\n",
       "    <tr>\n",
       "      <th>0</th>\n",
       "      <td>313000</td>\n",
       "      <td>3</td>\n",
       "      <td>1</td>\n",
       "      <td>1340</td>\n",
       "      <td>7912</td>\n",
       "      <td>1</td>\n",
       "      <td>3</td>\n",
       "      <td>1340</td>\n",
       "      <td>36</td>\n",
       "    </tr>\n",
       "    <tr>\n",
       "      <th>1</th>\n",
       "      <td>2384000</td>\n",
       "      <td>5</td>\n",
       "      <td>2</td>\n",
       "      <td>3650</td>\n",
       "      <td>9050</td>\n",
       "      <td>2</td>\n",
       "      <td>5</td>\n",
       "      <td>3370</td>\n",
       "      <td>35</td>\n",
       "    </tr>\n",
       "    <tr>\n",
       "      <th>2</th>\n",
       "      <td>342000</td>\n",
       "      <td>3</td>\n",
       "      <td>2</td>\n",
       "      <td>1930</td>\n",
       "      <td>11947</td>\n",
       "      <td>1</td>\n",
       "      <td>4</td>\n",
       "      <td>1930</td>\n",
       "      <td>18</td>\n",
       "    </tr>\n",
       "    <tr>\n",
       "      <th>3</th>\n",
       "      <td>420000</td>\n",
       "      <td>3</td>\n",
       "      <td>2</td>\n",
       "      <td>2000</td>\n",
       "      <td>8030</td>\n",
       "      <td>1</td>\n",
       "      <td>4</td>\n",
       "      <td>1000</td>\n",
       "      <td>3</td>\n",
       "    </tr>\n",
       "    <tr>\n",
       "      <th>4</th>\n",
       "      <td>550000</td>\n",
       "      <td>4</td>\n",
       "      <td>2</td>\n",
       "      <td>1940</td>\n",
       "      <td>10500</td>\n",
       "      <td>1</td>\n",
       "      <td>4</td>\n",
       "      <td>1140</td>\n",
       "      <td>31</td>\n",
       "    </tr>\n",
       "  </tbody>\n",
       "</table>\n",
       "</div>"
      ],
      "text/plain": [
       "     price  bedrooms  bathrooms  sqft_living  sqft_lot  floors  condition  \\\n",
       "0   313000         3          1         1340      7912       1          3   \n",
       "1  2384000         5          2         3650      9050       2          5   \n",
       "2   342000         3          2         1930     11947       1          4   \n",
       "3   420000         3          2         2000      8030       1          4   \n",
       "4   550000         4          2         1940     10500       1          4   \n",
       "\n",
       "   sqft_above  city_new  \n",
       "0        1340        36  \n",
       "1        3370        35  \n",
       "2        1930        18  \n",
       "3        1000         3  \n",
       "4        1140        31  "
      ]
     },
     "execution_count": 32,
     "metadata": {},
     "output_type": "execute_result"
    }
   ],
   "source": [
    "data.head()"
   ]
  },
  {
   "cell_type": "code",
   "execution_count": 33,
   "id": "32b3dfde",
   "metadata": {
    "execution": {
     "iopub.execute_input": "2022-11-05T08:25:32.495627Z",
     "iopub.status.busy": "2022-11-05T08:25:32.495195Z",
     "iopub.status.idle": "2022-11-05T08:25:32.504061Z",
     "shell.execute_reply": "2022-11-05T08:25:32.503047Z"
    },
    "papermill": {
     "duration": 0.026607,
     "end_time": "2022-11-05T08:25:32.506128",
     "exception": false,
     "start_time": "2022-11-05T08:25:32.479521",
     "status": "completed"
    },
    "tags": []
   },
   "outputs": [
    {
     "data": {
      "text/plain": [
       "array([284900.])"
      ]
     },
     "execution_count": 33,
     "metadata": {},
     "output_type": "execute_result"
    }
   ],
   "source": [
    "a  = [1,1,200,200,1,2,200,36]\n",
    "model.predict([a])"
   ]
  },
  {
   "cell_type": "code",
   "execution_count": 35,
   "id": "76fa023e",
   "metadata": {},
   "outputs": [
    {
     "data": {
      "text/plain": [
       "array([314950.])"
      ]
     },
     "execution_count": 35,
     "metadata": {},
     "output_type": "execute_result"
    }
   ],
   "source": [
    "b =[3,1,1340,7912,1,3,1340,36]\n",
    "model.predict([b])"
   ]
  },
  {
   "cell_type": "code",
   "execution_count": null,
   "id": "7b7c018b",
   "metadata": {},
   "outputs": [],
   "source": []
  }
 ],
 "metadata": {
  "kernelspec": {
   "display_name": "Python 3",
   "language": "python",
   "name": "python3"
  },
  "language_info": {
   "codemirror_mode": {
    "name": "ipython",
    "version": 3
   },
   "file_extension": ".py",
   "mimetype": "text/x-python",
   "name": "python",
   "nbconvert_exporter": "python",
   "pygments_lexer": "ipython3",
   "version": "3.10.0"
  },
  "papermill": {
   "default_parameters": {},
   "duration": 16.918623,
   "end_time": "2022-11-05T08:25:33.493433",
   "environment_variables": {},
   "exception": null,
   "input_path": "__notebook__.ipynb",
   "output_path": "__notebook__.ipynb",
   "parameters": {},
   "start_time": "2022-11-05T08:25:16.574810",
   "version": "2.3.4"
  }
 },
 "nbformat": 4,
 "nbformat_minor": 5
}
