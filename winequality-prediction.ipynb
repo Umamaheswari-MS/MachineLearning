{
 "cells": [
  {
   "cell_type": "code",
   "execution_count": 3,
   "id": "a9c11110",
   "metadata": {
    "execution": {
     "iopub.execute_input": "2023-08-07T07:07:49.414411Z",
     "iopub.status.busy": "2023-08-07T07:07:49.413913Z",
     "iopub.status.idle": "2023-08-07T07:07:49.426948Z",
     "shell.execute_reply": "2023-08-07T07:07:49.425982Z"
    },
    "papermill": {
     "duration": 0.023536,
     "end_time": "2023-08-07T07:07:49.429167",
     "exception": false,
     "start_time": "2023-08-07T07:07:49.405631",
     "status": "completed"
    },
    "tags": []
   },
   "outputs": [],
   "source": [
    "import pandas as pd\n",
    "import numpy as np\n",
    "import matplotlib.pyplot as plt\n",
    "%matplotlib inline"
   ]
  },
  {
   "cell_type": "code",
   "execution_count": 4,
   "id": "8431d5c0",
   "metadata": {
    "execution": {
     "iopub.execute_input": "2023-08-07T07:07:49.441953Z",
     "iopub.status.busy": "2023-08-07T07:07:49.441587Z",
     "iopub.status.idle": "2023-08-07T07:07:49.499514Z",
     "shell.execute_reply": "2023-08-07T07:07:49.498507Z"
    },
    "papermill": {
     "duration": 0.066537,
     "end_time": "2023-08-07T07:07:49.501606",
     "exception": false,
     "start_time": "2023-08-07T07:07:49.435069",
     "status": "completed"
    },
    "tags": []
   },
   "outputs": [
    {
     "data": {
      "text/html": [
       "<div>\n",
       "<style scoped>\n",
       "    .dataframe tbody tr th:only-of-type {\n",
       "        vertical-align: middle;\n",
       "    }\n",
       "\n",
       "    .dataframe tbody tr th {\n",
       "        vertical-align: top;\n",
       "    }\n",
       "\n",
       "    .dataframe thead th {\n",
       "        text-align: right;\n",
       "    }\n",
       "</style>\n",
       "<table border=\"1\" class=\"dataframe\">\n",
       "  <thead>\n",
       "    <tr style=\"text-align: right;\">\n",
       "      <th></th>\n",
       "      <th>fixed acidity</th>\n",
       "      <th>volatile acidity</th>\n",
       "      <th>citric acid</th>\n",
       "      <th>residual sugar</th>\n",
       "      <th>chlorides</th>\n",
       "      <th>free sulfur dioxide</th>\n",
       "      <th>total sulfur dioxide</th>\n",
       "      <th>density</th>\n",
       "      <th>pH</th>\n",
       "      <th>sulphates</th>\n",
       "      <th>alcohol</th>\n",
       "      <th>quality</th>\n",
       "    </tr>\n",
       "  </thead>\n",
       "  <tbody>\n",
       "    <tr>\n",
       "      <th>0</th>\n",
       "      <td>7.4</td>\n",
       "      <td>0.700</td>\n",
       "      <td>0.00</td>\n",
       "      <td>1.9</td>\n",
       "      <td>0.076</td>\n",
       "      <td>11.0</td>\n",
       "      <td>34.0</td>\n",
       "      <td>0.99780</td>\n",
       "      <td>3.51</td>\n",
       "      <td>0.56</td>\n",
       "      <td>9.4</td>\n",
       "      <td>5</td>\n",
       "    </tr>\n",
       "    <tr>\n",
       "      <th>1</th>\n",
       "      <td>7.8</td>\n",
       "      <td>0.880</td>\n",
       "      <td>0.00</td>\n",
       "      <td>2.6</td>\n",
       "      <td>0.098</td>\n",
       "      <td>25.0</td>\n",
       "      <td>67.0</td>\n",
       "      <td>0.99680</td>\n",
       "      <td>3.20</td>\n",
       "      <td>0.68</td>\n",
       "      <td>9.8</td>\n",
       "      <td>5</td>\n",
       "    </tr>\n",
       "    <tr>\n",
       "      <th>2</th>\n",
       "      <td>7.8</td>\n",
       "      <td>0.760</td>\n",
       "      <td>0.04</td>\n",
       "      <td>2.3</td>\n",
       "      <td>0.092</td>\n",
       "      <td>15.0</td>\n",
       "      <td>54.0</td>\n",
       "      <td>0.99700</td>\n",
       "      <td>3.26</td>\n",
       "      <td>0.65</td>\n",
       "      <td>9.8</td>\n",
       "      <td>5</td>\n",
       "    </tr>\n",
       "    <tr>\n",
       "      <th>3</th>\n",
       "      <td>11.2</td>\n",
       "      <td>0.280</td>\n",
       "      <td>0.56</td>\n",
       "      <td>1.9</td>\n",
       "      <td>0.075</td>\n",
       "      <td>17.0</td>\n",
       "      <td>60.0</td>\n",
       "      <td>0.99800</td>\n",
       "      <td>3.16</td>\n",
       "      <td>0.58</td>\n",
       "      <td>9.8</td>\n",
       "      <td>6</td>\n",
       "    </tr>\n",
       "    <tr>\n",
       "      <th>4</th>\n",
       "      <td>7.4</td>\n",
       "      <td>0.700</td>\n",
       "      <td>0.00</td>\n",
       "      <td>1.9</td>\n",
       "      <td>0.076</td>\n",
       "      <td>11.0</td>\n",
       "      <td>34.0</td>\n",
       "      <td>0.99780</td>\n",
       "      <td>3.51</td>\n",
       "      <td>0.56</td>\n",
       "      <td>9.4</td>\n",
       "      <td>5</td>\n",
       "    </tr>\n",
       "    <tr>\n",
       "      <th>...</th>\n",
       "      <td>...</td>\n",
       "      <td>...</td>\n",
       "      <td>...</td>\n",
       "      <td>...</td>\n",
       "      <td>...</td>\n",
       "      <td>...</td>\n",
       "      <td>...</td>\n",
       "      <td>...</td>\n",
       "      <td>...</td>\n",
       "      <td>...</td>\n",
       "      <td>...</td>\n",
       "      <td>...</td>\n",
       "    </tr>\n",
       "    <tr>\n",
       "      <th>1594</th>\n",
       "      <td>6.2</td>\n",
       "      <td>0.600</td>\n",
       "      <td>0.08</td>\n",
       "      <td>2.0</td>\n",
       "      <td>0.090</td>\n",
       "      <td>32.0</td>\n",
       "      <td>44.0</td>\n",
       "      <td>0.99490</td>\n",
       "      <td>3.45</td>\n",
       "      <td>0.58</td>\n",
       "      <td>10.5</td>\n",
       "      <td>5</td>\n",
       "    </tr>\n",
       "    <tr>\n",
       "      <th>1595</th>\n",
       "      <td>5.9</td>\n",
       "      <td>0.550</td>\n",
       "      <td>0.10</td>\n",
       "      <td>2.2</td>\n",
       "      <td>0.062</td>\n",
       "      <td>39.0</td>\n",
       "      <td>51.0</td>\n",
       "      <td>0.99512</td>\n",
       "      <td>3.52</td>\n",
       "      <td>0.76</td>\n",
       "      <td>11.2</td>\n",
       "      <td>6</td>\n",
       "    </tr>\n",
       "    <tr>\n",
       "      <th>1596</th>\n",
       "      <td>6.3</td>\n",
       "      <td>0.510</td>\n",
       "      <td>0.13</td>\n",
       "      <td>2.3</td>\n",
       "      <td>0.076</td>\n",
       "      <td>29.0</td>\n",
       "      <td>40.0</td>\n",
       "      <td>0.99574</td>\n",
       "      <td>3.42</td>\n",
       "      <td>0.75</td>\n",
       "      <td>11.0</td>\n",
       "      <td>6</td>\n",
       "    </tr>\n",
       "    <tr>\n",
       "      <th>1597</th>\n",
       "      <td>5.9</td>\n",
       "      <td>0.645</td>\n",
       "      <td>0.12</td>\n",
       "      <td>2.0</td>\n",
       "      <td>0.075</td>\n",
       "      <td>32.0</td>\n",
       "      <td>44.0</td>\n",
       "      <td>0.99547</td>\n",
       "      <td>3.57</td>\n",
       "      <td>0.71</td>\n",
       "      <td>10.2</td>\n",
       "      <td>5</td>\n",
       "    </tr>\n",
       "    <tr>\n",
       "      <th>1598</th>\n",
       "      <td>6.0</td>\n",
       "      <td>0.310</td>\n",
       "      <td>0.47</td>\n",
       "      <td>3.6</td>\n",
       "      <td>0.067</td>\n",
       "      <td>18.0</td>\n",
       "      <td>42.0</td>\n",
       "      <td>0.99549</td>\n",
       "      <td>3.39</td>\n",
       "      <td>0.66</td>\n",
       "      <td>11.0</td>\n",
       "      <td>6</td>\n",
       "    </tr>\n",
       "  </tbody>\n",
       "</table>\n",
       "<p>1599 rows × 12 columns</p>\n",
       "</div>"
      ],
      "text/plain": [
       "      fixed acidity  volatile acidity  citric acid  residual sugar  chlorides  \\\n",
       "0               7.4             0.700         0.00             1.9      0.076   \n",
       "1               7.8             0.880         0.00             2.6      0.098   \n",
       "2               7.8             0.760         0.04             2.3      0.092   \n",
       "3              11.2             0.280         0.56             1.9      0.075   \n",
       "4               7.4             0.700         0.00             1.9      0.076   \n",
       "...             ...               ...          ...             ...        ...   \n",
       "1594            6.2             0.600         0.08             2.0      0.090   \n",
       "1595            5.9             0.550         0.10             2.2      0.062   \n",
       "1596            6.3             0.510         0.13             2.3      0.076   \n",
       "1597            5.9             0.645         0.12             2.0      0.075   \n",
       "1598            6.0             0.310         0.47             3.6      0.067   \n",
       "\n",
       "      free sulfur dioxide  total sulfur dioxide  density    pH  sulphates  \\\n",
       "0                    11.0                  34.0  0.99780  3.51       0.56   \n",
       "1                    25.0                  67.0  0.99680  3.20       0.68   \n",
       "2                    15.0                  54.0  0.99700  3.26       0.65   \n",
       "3                    17.0                  60.0  0.99800  3.16       0.58   \n",
       "4                    11.0                  34.0  0.99780  3.51       0.56   \n",
       "...                   ...                   ...      ...   ...        ...   \n",
       "1594                 32.0                  44.0  0.99490  3.45       0.58   \n",
       "1595                 39.0                  51.0  0.99512  3.52       0.76   \n",
       "1596                 29.0                  40.0  0.99574  3.42       0.75   \n",
       "1597                 32.0                  44.0  0.99547  3.57       0.71   \n",
       "1598                 18.0                  42.0  0.99549  3.39       0.66   \n",
       "\n",
       "      alcohol  quality  \n",
       "0         9.4        5  \n",
       "1         9.8        5  \n",
       "2         9.8        5  \n",
       "3         9.8        6  \n",
       "4         9.4        5  \n",
       "...       ...      ...  \n",
       "1594     10.5        5  \n",
       "1595     11.2        6  \n",
       "1596     11.0        6  \n",
       "1597     10.2        5  \n",
       "1598     11.0        6  \n",
       "\n",
       "[1599 rows x 12 columns]"
      ]
     },
     "execution_count": 4,
     "metadata": {},
     "output_type": "execute_result"
    }
   ],
   "source": [
    "df= pd.read_csv(\"C:/Users/User/Downloads/winequality-red.csv\")\n",
    "df"
   ]
  },
  {
   "cell_type": "code",
   "execution_count": 5,
   "id": "7bab339d",
   "metadata": {
    "execution": {
     "iopub.execute_input": "2023-08-07T07:07:49.514590Z",
     "iopub.status.busy": "2023-08-07T07:07:49.514173Z",
     "iopub.status.idle": "2023-08-07T07:07:49.544718Z",
     "shell.execute_reply": "2023-08-07T07:07:49.543381Z"
    },
    "papermill": {
     "duration": 0.03933,
     "end_time": "2023-08-07T07:07:49.546661",
     "exception": false,
     "start_time": "2023-08-07T07:07:49.507331",
     "status": "completed"
    },
    "tags": []
   },
   "outputs": [
    {
     "data": {
      "text/html": [
       "<div>\n",
       "<style scoped>\n",
       "    .dataframe tbody tr th:only-of-type {\n",
       "        vertical-align: middle;\n",
       "    }\n",
       "\n",
       "    .dataframe tbody tr th {\n",
       "        vertical-align: top;\n",
       "    }\n",
       "\n",
       "    .dataframe thead th {\n",
       "        text-align: right;\n",
       "    }\n",
       "</style>\n",
       "<table border=\"1\" class=\"dataframe\">\n",
       "  <thead>\n",
       "    <tr style=\"text-align: right;\">\n",
       "      <th></th>\n",
       "      <th>fixed acidity</th>\n",
       "      <th>volatile acidity</th>\n",
       "      <th>citric acid</th>\n",
       "      <th>residual sugar</th>\n",
       "      <th>chlorides</th>\n",
       "      <th>free sulfur dioxide</th>\n",
       "      <th>total sulfur dioxide</th>\n",
       "      <th>density</th>\n",
       "      <th>pH</th>\n",
       "      <th>sulphates</th>\n",
       "      <th>alcohol</th>\n",
       "    </tr>\n",
       "  </thead>\n",
       "  <tbody>\n",
       "    <tr>\n",
       "      <th>0</th>\n",
       "      <td>7.4</td>\n",
       "      <td>0.700</td>\n",
       "      <td>0.00</td>\n",
       "      <td>1.9</td>\n",
       "      <td>0.076</td>\n",
       "      <td>11.0</td>\n",
       "      <td>34.0</td>\n",
       "      <td>0.99780</td>\n",
       "      <td>3.51</td>\n",
       "      <td>0.56</td>\n",
       "      <td>9.4</td>\n",
       "    </tr>\n",
       "    <tr>\n",
       "      <th>1</th>\n",
       "      <td>7.8</td>\n",
       "      <td>0.880</td>\n",
       "      <td>0.00</td>\n",
       "      <td>2.6</td>\n",
       "      <td>0.098</td>\n",
       "      <td>25.0</td>\n",
       "      <td>67.0</td>\n",
       "      <td>0.99680</td>\n",
       "      <td>3.20</td>\n",
       "      <td>0.68</td>\n",
       "      <td>9.8</td>\n",
       "    </tr>\n",
       "    <tr>\n",
       "      <th>2</th>\n",
       "      <td>7.8</td>\n",
       "      <td>0.760</td>\n",
       "      <td>0.04</td>\n",
       "      <td>2.3</td>\n",
       "      <td>0.092</td>\n",
       "      <td>15.0</td>\n",
       "      <td>54.0</td>\n",
       "      <td>0.99700</td>\n",
       "      <td>3.26</td>\n",
       "      <td>0.65</td>\n",
       "      <td>9.8</td>\n",
       "    </tr>\n",
       "    <tr>\n",
       "      <th>3</th>\n",
       "      <td>11.2</td>\n",
       "      <td>0.280</td>\n",
       "      <td>0.56</td>\n",
       "      <td>1.9</td>\n",
       "      <td>0.075</td>\n",
       "      <td>17.0</td>\n",
       "      <td>60.0</td>\n",
       "      <td>0.99800</td>\n",
       "      <td>3.16</td>\n",
       "      <td>0.58</td>\n",
       "      <td>9.8</td>\n",
       "    </tr>\n",
       "    <tr>\n",
       "      <th>4</th>\n",
       "      <td>7.4</td>\n",
       "      <td>0.700</td>\n",
       "      <td>0.00</td>\n",
       "      <td>1.9</td>\n",
       "      <td>0.076</td>\n",
       "      <td>11.0</td>\n",
       "      <td>34.0</td>\n",
       "      <td>0.99780</td>\n",
       "      <td>3.51</td>\n",
       "      <td>0.56</td>\n",
       "      <td>9.4</td>\n",
       "    </tr>\n",
       "    <tr>\n",
       "      <th>...</th>\n",
       "      <td>...</td>\n",
       "      <td>...</td>\n",
       "      <td>...</td>\n",
       "      <td>...</td>\n",
       "      <td>...</td>\n",
       "      <td>...</td>\n",
       "      <td>...</td>\n",
       "      <td>...</td>\n",
       "      <td>...</td>\n",
       "      <td>...</td>\n",
       "      <td>...</td>\n",
       "    </tr>\n",
       "    <tr>\n",
       "      <th>1594</th>\n",
       "      <td>6.2</td>\n",
       "      <td>0.600</td>\n",
       "      <td>0.08</td>\n",
       "      <td>2.0</td>\n",
       "      <td>0.090</td>\n",
       "      <td>32.0</td>\n",
       "      <td>44.0</td>\n",
       "      <td>0.99490</td>\n",
       "      <td>3.45</td>\n",
       "      <td>0.58</td>\n",
       "      <td>10.5</td>\n",
       "    </tr>\n",
       "    <tr>\n",
       "      <th>1595</th>\n",
       "      <td>5.9</td>\n",
       "      <td>0.550</td>\n",
       "      <td>0.10</td>\n",
       "      <td>2.2</td>\n",
       "      <td>0.062</td>\n",
       "      <td>39.0</td>\n",
       "      <td>51.0</td>\n",
       "      <td>0.99512</td>\n",
       "      <td>3.52</td>\n",
       "      <td>0.76</td>\n",
       "      <td>11.2</td>\n",
       "    </tr>\n",
       "    <tr>\n",
       "      <th>1596</th>\n",
       "      <td>6.3</td>\n",
       "      <td>0.510</td>\n",
       "      <td>0.13</td>\n",
       "      <td>2.3</td>\n",
       "      <td>0.076</td>\n",
       "      <td>29.0</td>\n",
       "      <td>40.0</td>\n",
       "      <td>0.99574</td>\n",
       "      <td>3.42</td>\n",
       "      <td>0.75</td>\n",
       "      <td>11.0</td>\n",
       "    </tr>\n",
       "    <tr>\n",
       "      <th>1597</th>\n",
       "      <td>5.9</td>\n",
       "      <td>0.645</td>\n",
       "      <td>0.12</td>\n",
       "      <td>2.0</td>\n",
       "      <td>0.075</td>\n",
       "      <td>32.0</td>\n",
       "      <td>44.0</td>\n",
       "      <td>0.99547</td>\n",
       "      <td>3.57</td>\n",
       "      <td>0.71</td>\n",
       "      <td>10.2</td>\n",
       "    </tr>\n",
       "    <tr>\n",
       "      <th>1598</th>\n",
       "      <td>6.0</td>\n",
       "      <td>0.310</td>\n",
       "      <td>0.47</td>\n",
       "      <td>3.6</td>\n",
       "      <td>0.067</td>\n",
       "      <td>18.0</td>\n",
       "      <td>42.0</td>\n",
       "      <td>0.99549</td>\n",
       "      <td>3.39</td>\n",
       "      <td>0.66</td>\n",
       "      <td>11.0</td>\n",
       "    </tr>\n",
       "  </tbody>\n",
       "</table>\n",
       "<p>1599 rows × 11 columns</p>\n",
       "</div>"
      ],
      "text/plain": [
       "      fixed acidity  volatile acidity  citric acid  residual sugar  chlorides  \\\n",
       "0               7.4             0.700         0.00             1.9      0.076   \n",
       "1               7.8             0.880         0.00             2.6      0.098   \n",
       "2               7.8             0.760         0.04             2.3      0.092   \n",
       "3              11.2             0.280         0.56             1.9      0.075   \n",
       "4               7.4             0.700         0.00             1.9      0.076   \n",
       "...             ...               ...          ...             ...        ...   \n",
       "1594            6.2             0.600         0.08             2.0      0.090   \n",
       "1595            5.9             0.550         0.10             2.2      0.062   \n",
       "1596            6.3             0.510         0.13             2.3      0.076   \n",
       "1597            5.9             0.645         0.12             2.0      0.075   \n",
       "1598            6.0             0.310         0.47             3.6      0.067   \n",
       "\n",
       "      free sulfur dioxide  total sulfur dioxide  density    pH  sulphates  \\\n",
       "0                    11.0                  34.0  0.99780  3.51       0.56   \n",
       "1                    25.0                  67.0  0.99680  3.20       0.68   \n",
       "2                    15.0                  54.0  0.99700  3.26       0.65   \n",
       "3                    17.0                  60.0  0.99800  3.16       0.58   \n",
       "4                    11.0                  34.0  0.99780  3.51       0.56   \n",
       "...                   ...                   ...      ...   ...        ...   \n",
       "1594                 32.0                  44.0  0.99490  3.45       0.58   \n",
       "1595                 39.0                  51.0  0.99512  3.52       0.76   \n",
       "1596                 29.0                  40.0  0.99574  3.42       0.75   \n",
       "1597                 32.0                  44.0  0.99547  3.57       0.71   \n",
       "1598                 18.0                  42.0  0.99549  3.39       0.66   \n",
       "\n",
       "      alcohol  \n",
       "0         9.4  \n",
       "1         9.8  \n",
       "2         9.8  \n",
       "3         9.8  \n",
       "4         9.4  \n",
       "...       ...  \n",
       "1594     10.5  \n",
       "1595     11.2  \n",
       "1596     11.0  \n",
       "1597     10.2  \n",
       "1598     11.0  \n",
       "\n",
       "[1599 rows x 11 columns]"
      ]
     },
     "execution_count": 5,
     "metadata": {},
     "output_type": "execute_result"
    }
   ],
   "source": [
    "#splitting input and output features\n",
    "X=df.drop(\"quality\",axis=1)\n",
    "Y=df[\"quality\"]\n",
    "X\n"
   ]
  },
  {
   "cell_type": "code",
   "execution_count": 6,
   "id": "37c1eedc",
   "metadata": {
    "execution": {
     "iopub.execute_input": "2023-08-07T07:07:49.560673Z",
     "iopub.status.busy": "2023-08-07T07:07:49.560279Z",
     "iopub.status.idle": "2023-08-07T07:07:49.567578Z",
     "shell.execute_reply": "2023-08-07T07:07:49.566745Z"
    },
    "papermill": {
     "duration": 0.016584,
     "end_time": "2023-08-07T07:07:49.569561",
     "exception": false,
     "start_time": "2023-08-07T07:07:49.552977",
     "status": "completed"
    },
    "tags": []
   },
   "outputs": [
    {
     "data": {
      "text/plain": [
       "0       5\n",
       "1       5\n",
       "2       5\n",
       "3       6\n",
       "4       5\n",
       "       ..\n",
       "1594    5\n",
       "1595    6\n",
       "1596    6\n",
       "1597    5\n",
       "1598    6\n",
       "Name: quality, Length: 1599, dtype: int64"
      ]
     },
     "execution_count": 6,
     "metadata": {},
     "output_type": "execute_result"
    }
   ],
   "source": [
    "Y"
   ]
  },
  {
   "cell_type": "code",
   "execution_count": 7,
   "id": "22c404f5",
   "metadata": {
    "execution": {
     "iopub.execute_input": "2023-08-07T07:07:49.584536Z",
     "iopub.status.busy": "2023-08-07T07:07:49.583774Z",
     "iopub.status.idle": "2023-08-07T07:07:50.921198Z",
     "shell.execute_reply": "2023-08-07T07:07:50.919600Z"
    },
    "papermill": {
     "duration": 1.348708,
     "end_time": "2023-08-07T07:07:50.924625",
     "exception": false,
     "start_time": "2023-08-07T07:07:49.575917",
     "status": "completed"
    },
    "tags": []
   },
   "outputs": [],
   "source": [
    "#splitting the data into training and testing sets (70% training and 30% testing)\n",
    "from sklearn.model_selection import train_test_split,cross_val_score\n",
    "X_train,X_test,Y_train,Y_test=train_test_split(X,Y,test_size=0.3,random_state=42)\n"
   ]
  },
  {
   "cell_type": "code",
   "execution_count": 8,
   "id": "3610bf65",
   "metadata": {
    "execution": {
     "iopub.execute_input": "2023-08-07T07:07:50.941093Z",
     "iopub.status.busy": "2023-08-07T07:07:50.940199Z",
     "iopub.status.idle": "2023-08-07T07:07:50.947492Z",
     "shell.execute_reply": "2023-08-07T07:07:50.946150Z"
    },
    "papermill": {
     "duration": 0.018691,
     "end_time": "2023-08-07T07:07:50.950277",
     "exception": false,
     "start_time": "2023-08-07T07:07:50.931586",
     "status": "completed"
    },
    "tags": []
   },
   "outputs": [
    {
     "name": "stdout",
     "output_type": "stream",
     "text": [
      "Shape of X_train: (1119, 11)\n",
      "Shape of X_test: (480, 11)\n",
      "Shape of Y_train: (1119,)\n",
      "Shape of Y_test: (480,)\n"
     ]
    }
   ],
   "source": [
    "import numpy as np\n",
    "\n",
    "# Assuming you have split the data into X_train, X_test, y_train, y_test\n",
    "print(\"Shape of X_train:\", X_train.shape)\n",
    "print(\"Shape of X_test:\", X_test.shape)\n",
    "print(\"Shape of Y_train:\", Y_train.shape)\n",
    "print(\"Shape of Y_test:\", Y_test.shape)"
   ]
  },
  {
   "cell_type": "code",
   "execution_count": 9,
   "id": "bae513aa",
   "metadata": {
    "execution": {
     "iopub.execute_input": "2023-08-07T07:07:50.966761Z",
     "iopub.status.busy": "2023-08-07T07:07:50.966234Z",
     "iopub.status.idle": "2023-08-07T07:07:51.130001Z",
     "shell.execute_reply": "2023-08-07T07:07:51.128498Z"
    },
    "papermill": {
     "duration": 0.176061,
     "end_time": "2023-08-07T07:07:51.133273",
     "exception": false,
     "start_time": "2023-08-07T07:07:50.957212",
     "status": "completed"
    },
    "tags": []
   },
   "outputs": [
    {
     "data": {
      "text/html": [
       "<style>#sk-container-id-1 {color: black;}#sk-container-id-1 pre{padding: 0;}#sk-container-id-1 div.sk-toggleable {background-color: white;}#sk-container-id-1 label.sk-toggleable__label {cursor: pointer;display: block;width: 100%;margin-bottom: 0;padding: 0.3em;box-sizing: border-box;text-align: center;}#sk-container-id-1 label.sk-toggleable__label-arrow:before {content: \"▸\";float: left;margin-right: 0.25em;color: #696969;}#sk-container-id-1 label.sk-toggleable__label-arrow:hover:before {color: black;}#sk-container-id-1 div.sk-estimator:hover label.sk-toggleable__label-arrow:before {color: black;}#sk-container-id-1 div.sk-toggleable__content {max-height: 0;max-width: 0;overflow: hidden;text-align: left;background-color: #f0f8ff;}#sk-container-id-1 div.sk-toggleable__content pre {margin: 0.2em;color: black;border-radius: 0.25em;background-color: #f0f8ff;}#sk-container-id-1 input.sk-toggleable__control:checked~div.sk-toggleable__content {max-height: 200px;max-width: 100%;overflow: auto;}#sk-container-id-1 input.sk-toggleable__control:checked~label.sk-toggleable__label-arrow:before {content: \"▾\";}#sk-container-id-1 div.sk-estimator input.sk-toggleable__control:checked~label.sk-toggleable__label {background-color: #d4ebff;}#sk-container-id-1 div.sk-label input.sk-toggleable__control:checked~label.sk-toggleable__label {background-color: #d4ebff;}#sk-container-id-1 input.sk-hidden--visually {border: 0;clip: rect(1px 1px 1px 1px);clip: rect(1px, 1px, 1px, 1px);height: 1px;margin: -1px;overflow: hidden;padding: 0;position: absolute;width: 1px;}#sk-container-id-1 div.sk-estimator {font-family: monospace;background-color: #f0f8ff;border: 1px dotted black;border-radius: 0.25em;box-sizing: border-box;margin-bottom: 0.5em;}#sk-container-id-1 div.sk-estimator:hover {background-color: #d4ebff;}#sk-container-id-1 div.sk-parallel-item::after {content: \"\";width: 100%;border-bottom: 1px solid gray;flex-grow: 1;}#sk-container-id-1 div.sk-label:hover label.sk-toggleable__label {background-color: #d4ebff;}#sk-container-id-1 div.sk-serial::before {content: \"\";position: absolute;border-left: 1px solid gray;box-sizing: border-box;top: 0;bottom: 0;left: 50%;z-index: 0;}#sk-container-id-1 div.sk-serial {display: flex;flex-direction: column;align-items: center;background-color: white;padding-right: 0.2em;padding-left: 0.2em;position: relative;}#sk-container-id-1 div.sk-item {position: relative;z-index: 1;}#sk-container-id-1 div.sk-parallel {display: flex;align-items: stretch;justify-content: center;background-color: white;position: relative;}#sk-container-id-1 div.sk-item::before, #sk-container-id-1 div.sk-parallel-item::before {content: \"\";position: absolute;border-left: 1px solid gray;box-sizing: border-box;top: 0;bottom: 0;left: 50%;z-index: -1;}#sk-container-id-1 div.sk-parallel-item {display: flex;flex-direction: column;z-index: 1;position: relative;background-color: white;}#sk-container-id-1 div.sk-parallel-item:first-child::after {align-self: flex-end;width: 50%;}#sk-container-id-1 div.sk-parallel-item:last-child::after {align-self: flex-start;width: 50%;}#sk-container-id-1 div.sk-parallel-item:only-child::after {width: 0;}#sk-container-id-1 div.sk-dashed-wrapped {border: 1px dashed gray;margin: 0 0.4em 0.5em 0.4em;box-sizing: border-box;padding-bottom: 0.4em;background-color: white;}#sk-container-id-1 div.sk-label label {font-family: monospace;font-weight: bold;display: inline-block;line-height: 1.2em;}#sk-container-id-1 div.sk-label-container {text-align: center;}#sk-container-id-1 div.sk-container {/* jupyter's `normalize.less` sets `[hidden] { display: none; }` but bootstrap.min.css set `[hidden] { display: none !important; }` so we also need the `!important` here to be able to override the default hidden behavior on the sphinx rendered scikit-learn.org. See: https://github.com/scikit-learn/scikit-learn/issues/21755 */display: inline-block !important;position: relative;}#sk-container-id-1 div.sk-text-repr-fallback {display: none;}</style><div id=\"sk-container-id-1\" class=\"sk-top-container\"><div class=\"sk-text-repr-fallback\"><pre>LinearRegression()</pre><b>In a Jupyter environment, please rerun this cell to show the HTML representation or trust the notebook. <br />On GitHub, the HTML representation is unable to render, please try loading this page with nbviewer.org.</b></div><div class=\"sk-container\" hidden><div class=\"sk-item\"><div class=\"sk-estimator sk-toggleable\"><input class=\"sk-toggleable__control sk-hidden--visually\" id=\"sk-estimator-id-1\" type=\"checkbox\" checked><label for=\"sk-estimator-id-1\" class=\"sk-toggleable__label sk-toggleable__label-arrow\">LinearRegression</label><div class=\"sk-toggleable__content\"><pre>LinearRegression()</pre></div></div></div></div></div>"
      ],
      "text/plain": [
       "LinearRegression()"
      ]
     },
     "execution_count": 9,
     "metadata": {},
     "output_type": "execute_result"
    }
   ],
   "source": [
    "#creating LogisticRegression model\n",
    "from sklearn.linear_model import LinearRegression\n",
    "model = LinearRegression()\n",
    "\n",
    "#train the model using training data\n",
    "model.fit(X_train,Y_train)"
   ]
  },
  {
   "cell_type": "code",
   "execution_count": 10,
   "id": "ebde7927",
   "metadata": {
    "execution": {
     "iopub.execute_input": "2023-08-07T07:07:51.162479Z",
     "iopub.status.busy": "2023-08-07T07:07:51.161422Z",
     "iopub.status.idle": "2023-08-07T07:07:51.172331Z",
     "shell.execute_reply": "2023-08-07T07:07:51.171039Z"
    },
    "papermill": {
     "duration": 0.032875,
     "end_time": "2023-08-07T07:07:51.177836",
     "exception": false,
     "start_time": "2023-08-07T07:07:51.144961",
     "status": "completed"
    },
    "tags": []
   },
   "outputs": [],
   "source": [
    "#make predictions on train data\n",
    "\n",
    "train_pred=model.predict(X_train)\n",
    "#train_pred=train_pred.astype(int)"
   ]
  },
  {
   "cell_type": "code",
   "execution_count": 11,
   "id": "a97b86a7",
   "metadata": {
    "execution": {
     "iopub.execute_input": "2023-08-07T07:07:51.265837Z",
     "iopub.status.busy": "2023-08-07T07:07:51.265163Z",
     "iopub.status.idle": "2023-08-07T07:07:51.282683Z",
     "shell.execute_reply": "2023-08-07T07:07:51.281095Z"
    },
    "papermill": {
     "duration": 0.035588,
     "end_time": "2023-08-07T07:07:51.286915",
     "exception": false,
     "start_time": "2023-08-07T07:07:51.251327",
     "status": "completed"
    },
    "tags": []
   },
   "outputs": [
    {
     "name": "stdout",
     "output_type": "stream",
     "text": [
      "MAE: 0.49518748493865494\n",
      "RMSE: 0.6486806989670354\n",
      "R-Squared: 0.36119824413213175\n"
     ]
    }
   ],
   "source": [
    "from sklearn import metrics\n",
    "\n",
    "# evaluating the model on the training data\n",
    "\n",
    "print(\"MAE:\",metrics.mean_absolute_error(Y_train,train_pred))\n",
    "print(\"RMSE:\",np.sqrt(metrics.mean_squared_error(Y_train,train_pred)))\n",
    "print(\"R-Squared:\",metrics.r2_score(Y_train,train_pred))"
   ]
  },
  {
   "cell_type": "code",
   "execution_count": 12,
   "id": "8a002e4e",
   "metadata": {
    "execution": {
     "iopub.execute_input": "2023-08-07T07:07:51.305107Z",
     "iopub.status.busy": "2023-08-07T07:07:51.304634Z",
     "iopub.status.idle": "2023-08-07T07:07:51.312423Z",
     "shell.execute_reply": "2023-08-07T07:07:51.311247Z"
    },
    "papermill": {
     "duration": 0.018979,
     "end_time": "2023-08-07T07:07:51.314834",
     "exception": false,
     "start_time": "2023-08-07T07:07:51.295855",
     "status": "completed"
    },
    "tags": []
   },
   "outputs": [],
   "source": [
    "# Make predictions on test data\n",
    "\n",
    "test_pred = model.predict(X_test)"
   ]
  },
  {
   "cell_type": "code",
   "execution_count": 13,
   "id": "1630eb92",
   "metadata": {
    "execution": {
     "iopub.execute_input": "2023-08-07T07:07:51.331995Z",
     "iopub.status.busy": "2023-08-07T07:07:51.331108Z",
     "iopub.status.idle": "2023-08-07T07:07:51.339214Z",
     "shell.execute_reply": "2023-08-07T07:07:51.337915Z"
    },
    "papermill": {
     "duration": 0.019394,
     "end_time": "2023-08-07T07:07:51.341607",
     "exception": false,
     "start_time": "2023-08-07T07:07:51.322213",
     "status": "completed"
    },
    "tags": []
   },
   "outputs": [
    {
     "name": "stdout",
     "output_type": "stream",
     "text": [
      "MAE: 0.513395608245112\n",
      "RMSE: 0.6412759715991394\n",
      "R-Squared: 0.3513885332505232\n"
     ]
    }
   ],
   "source": [
    "# evaluating the model on the testing data\n",
    "\n",
    "print(\"MAE:\",metrics.mean_absolute_error(Y_test,test_pred))\n",
    "print(\"RMSE:\",np.sqrt(metrics.mean_squared_error(Y_test,test_pred)))\n",
    "print(\"R-Squared:\",metrics.r2_score(Y_test,test_pred))"
   ]
  },
  {
   "cell_type": "code",
   "execution_count": 14,
   "id": "ceda0c78",
   "metadata": {
    "execution": {
     "iopub.execute_input": "2023-08-07T07:07:51.386950Z",
     "iopub.status.busy": "2023-08-07T07:07:51.386011Z",
     "iopub.status.idle": "2023-08-07T07:07:51.444225Z",
     "shell.execute_reply": "2023-08-07T07:07:51.442615Z"
    },
    "papermill": {
     "duration": 0.070712,
     "end_time": "2023-08-07T07:07:51.447748",
     "exception": false,
     "start_time": "2023-08-07T07:07:51.377036",
     "status": "completed"
    },
    "tags": []
   },
   "outputs": [
    {
     "name": "stdout",
     "output_type": "stream",
     "text": [
      "The r2 using 5-fold cross-validation on training data: 0.334985992062552\n"
     ]
    }
   ],
   "source": [
    "# Perform k-fold cross-validation on the training data \n",
    "\n",
    "from sklearn.model_selection import  cross_val_score\n",
    "\n",
    "r2_cv_scores = cross_val_score(model,X_train,Y_train,cv=5,scoring='r2')\n",
    "mean_r2train_cv = r2_cv_scores.mean()\n",
    "print(\"The r2 using 5-fold cross-validation on training data:\", mean_r2train_cv)\n"
   ]
  },
  {
   "cell_type": "code",
   "execution_count": 15,
   "id": "eade077a",
   "metadata": {
    "execution": {
     "iopub.execute_input": "2023-08-07T07:07:51.483401Z",
     "iopub.status.busy": "2023-08-07T07:07:51.482683Z",
     "iopub.status.idle": "2023-08-07T07:07:51.556137Z",
     "shell.execute_reply": "2023-08-07T07:07:51.554781Z"
    },
    "papermill": {
     "duration": 0.094352,
     "end_time": "2023-08-07T07:07:51.559680",
     "exception": false,
     "start_time": "2023-08-07T07:07:51.465328",
     "status": "completed"
    },
    "tags": []
   },
   "outputs": [
    {
     "name": "stdout",
     "output_type": "stream",
     "text": [
      "The r2 using 5-fold cross-validation on testing data: 0.326678061098226\n"
     ]
    }
   ],
   "source": [
    "# Perform k-fold cross-validation on the testing data \n",
    "\n",
    "r2test_cv_scores = cross_val_score(model,X_test,Y_test,cv=5,scoring='r2')\n",
    "mean_r2test_cv= r2test_cv_scores.mean()\n",
    "print(\"The r2 using 5-fold cross-validation on testing data:\", mean_r2test_cv)\n"
   ]
  },
  {
   "cell_type": "code",
   "execution_count": 16,
   "id": "f2e8f598",
   "metadata": {
    "execution": {
     "iopub.execute_input": "2023-08-07T07:07:51.591703Z",
     "iopub.status.busy": "2023-08-07T07:07:51.591246Z",
     "iopub.status.idle": "2023-08-07T07:07:51.644925Z",
     "shell.execute_reply": "2023-08-07T07:07:51.643797Z"
    },
    "papermill": {
     "duration": 0.06555,
     "end_time": "2023-08-07T07:07:51.648211",
     "exception": false,
     "start_time": "2023-08-07T07:07:51.582661",
     "status": "completed"
    },
    "tags": []
   },
   "outputs": [
    {
     "name": "stdout",
     "output_type": "stream",
     "text": [
      "The mean squared error  using 5-fold cross-validation on training data: -0.43652212341343855\n"
     ]
    }
   ],
   "source": [
    "# Perform k-fold cross-validation on the training data \n",
    "msetrain_cv_scores = cross_val_score(model,X_train,Y_train,cv=5,scoring='neg_mean_squared_error')\n",
    "mean_msetrain_cv = msetrain_cv_scores.mean()\n",
    "print(\"The mean squared error  using 5-fold cross-validation on training data:\", mean_msetrain_cv)"
   ]
  },
  {
   "cell_type": "code",
   "execution_count": 17,
   "id": "d8eca687",
   "metadata": {
    "execution": {
     "iopub.execute_input": "2023-08-07T07:07:51.675607Z",
     "iopub.status.busy": "2023-08-07T07:07:51.674949Z",
     "iopub.status.idle": "2023-08-07T07:07:51.721929Z",
     "shell.execute_reply": "2023-08-07T07:07:51.720700Z"
    },
    "papermill": {
     "duration": 0.064823,
     "end_time": "2023-08-07T07:07:51.725314",
     "exception": false,
     "start_time": "2023-08-07T07:07:51.660491",
     "status": "completed"
    },
    "tags": []
   },
   "outputs": [
    {
     "name": "stdout",
     "output_type": "stream",
     "text": [
      "The mean squared error  using 5-fold cross-validation on testing data: -0.4235962818050936\n"
     ]
    }
   ],
   "source": [
    "# Perform k-fold cross-validation on the training data \n",
    "msetest_cv_scores = cross_val_score(model,X_test,Y_test,cv=5,scoring='neg_mean_squared_error')\n",
    "mean_msetest_cv = msetest_cv_scores.mean()\n",
    "print(\"The mean squared error  using 5-fold cross-validation on testing data:\", mean_msetest_cv)"
   ]
  },
  {
   "cell_type": "code",
   "execution_count": 18,
   "id": "f2be066f",
   "metadata": {
    "execution": {
     "iopub.execute_input": "2023-08-07T07:07:51.782441Z",
     "iopub.status.busy": "2023-08-07T07:07:51.781493Z",
     "iopub.status.idle": "2023-08-07T07:07:51.836107Z",
     "shell.execute_reply": "2023-08-07T07:07:51.834934Z"
    },
    "papermill": {
     "duration": 0.067354,
     "end_time": "2023-08-07T07:07:51.839451",
     "exception": false,
     "start_time": "2023-08-07T07:07:51.772097",
     "status": "completed"
    },
    "tags": []
   },
   "outputs": [
    {
     "name": "stdout",
     "output_type": "stream",
     "text": [
      "The root mean squared error  using 5-fold cross-validation on training data: -0.6592628863743302\n"
     ]
    }
   ],
   "source": [
    "rmsetrain_cv_scores = cross_val_score(model,X_train,Y_train,cv=5,scoring='neg_root_mean_squared_error')\n",
    "mean_rmsetrain_cv= rmsetrain_cv_scores.mean()\n",
    "print(\"The root mean squared error  using 5-fold cross-validation on training data:\", mean_rmsetrain_cv)\n"
   ]
  },
  {
   "cell_type": "code",
   "execution_count": 19,
   "id": "aaeadaf6",
   "metadata": {
    "execution": {
     "iopub.execute_input": "2023-08-07T07:07:51.867554Z",
     "iopub.status.busy": "2023-08-07T07:07:51.866990Z",
     "iopub.status.idle": "2023-08-07T07:07:51.917291Z",
     "shell.execute_reply": "2023-08-07T07:07:51.915704Z"
    },
    "papermill": {
     "duration": 0.06848,
     "end_time": "2023-08-07T07:07:51.920600",
     "exception": false,
     "start_time": "2023-08-07T07:07:51.852120",
     "status": "completed"
    },
    "tags": []
   },
   "outputs": [
    {
     "name": "stdout",
     "output_type": "stream",
     "text": [
      "The root mean squared error  using 5-fold cross-validation on testing data: -0.6496133904328669\n"
     ]
    }
   ],
   "source": [
    "rmsetest_cv_scores = cross_val_score(model,X_test,Y_test,cv=5,scoring='neg_root_mean_squared_error')\n",
    "mean_rmsetest_cv= rmsetest_cv_scores.mean()\n",
    "print(\"The root mean squared error  using 5-fold cross-validation on testing data:\", mean_rmsetest_cv)\n"
   ]
  }
 ],
 "metadata": {
  "kernelspec": {
   "display_name": "Python 3",
   "language": "python",
   "name": "python3"
  },
  "language_info": {
   "codemirror_mode": {
    "name": "ipython",
    "version": 3
   },
   "file_extension": ".py",
   "mimetype": "text/x-python",
   "name": "python",
   "nbconvert_exporter": "python",
   "pygments_lexer": "ipython3",
   "version": "3.10.0"
  },
  "papermill": {
   "default_parameters": {},
   "duration": 13.529599,
   "end_time": "2023-08-07T07:07:52.877766",
   "environment_variables": {},
   "exception": null,
   "input_path": "__notebook__.ipynb",
   "output_path": "__notebook__.ipynb",
   "parameters": {},
   "start_time": "2023-08-07T07:07:39.348167",
   "version": "2.4.0"
  }
 },
 "nbformat": 4,
 "nbformat_minor": 5
}
